{
  "nbformat": 4,
  "nbformat_minor": 0,
  "metadata": {
    "colab": {
      "provenance": [],
      "authorship_tag": "ABX9TyOA8a5CnAz3QIclGzQR5Qdd",
      "include_colab_link": true
    },
    "kernelspec": {
      "name": "python3",
      "display_name": "Python 3"
    },
    "language_info": {
      "name": "python"
    }
  },
  "cells": [
    {
      "cell_type": "markdown",
      "metadata": {
        "id": "view-in-github",
        "colab_type": "text"
      },
      "source": [
        "<a href=\"https://colab.research.google.com/github/susej2/AlgoritmosOptimizacion/blob/main/Mi_primer_algoritmo.ipynb\" target=\"_parent\"><img src=\"https://colab.research.google.com/assets/colab-badge.svg\" alt=\"Open In Colab\"/></a>"
      ]
    },
    {
      "cell_type": "code",
      "execution_count": 5,
      "metadata": {
        "colab": {
          "base_uri": "https://localhost:8080/"
        },
        "id": "miIuEI8Ercg7",
        "outputId": "830be2a3-aed1-4d4c-a74b-8616359c897d"
      },
      "outputs": [
        {
          "output_type": "execute_result",
          "data": {
            "text/plain": [
              "[2, 13, 7]"
            ]
          },
          "metadata": {},
          "execution_count": 5
        }
      ],
      "source": [
        "listA = [1,2,6,7,12,13,15]\n",
        "listB = [2,3,4,7,13]\n",
        "\n",
        "list(set(listB) & set(listA))"
      ]
    },
    {
      "cell_type": "code",
      "source": [],
      "metadata": {
        "id": "7ezN1FFdsFGl"
      },
      "execution_count": null,
      "outputs": []
    }
  ]
}