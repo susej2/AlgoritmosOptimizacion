{
  "cells": [
    {
      "cell_type": "markdown",
      "metadata": {
        "id": "view-in-github",
        "colab_type": "text"
      },
      "source": [
        "<a href=\"https://colab.research.google.com/github/susej2/AlgoritmosOptimizacion/blob/main/Algoritmos_R1.ipynb\" target=\"_parent\"><img src=\"https://colab.research.google.com/assets/colab-badge.svg\" alt=\"Open In Colab\"/></a>"
      ]
    },
    {
      "cell_type": "markdown",
      "metadata": {
        "id": "kQn6fbhgtH9I"
      },
      "source": [
        "# Algoritmos de optimización - Reto 1\n",
        "\n",
        "Nombre: Jesus Martinez Alvarado <br>\n",
        "Github: https://github.com/susej2/AlgoritmosOptimizacion <br>"
      ]
    },
    {
      "cell_type": "markdown",
      "metadata": {
        "id": "_t62Ge7ZuKnC"
      },
      "source": [
        "## Torres de Hanoi con Divide y vencerás\n",
        "\n",
        "Resuelve el problema de las [Torres de Hanoi](https://es.wikipedia.org/wiki/Torres_de_Han%C3%B3i) para un número arbitrario de fichas utilizando la técnica de divide y vencerás."
      ]
    },
    {
      "cell_type": "code",
      "execution_count": 1,
      "metadata": {
        "colab": {
          "base_uri": "https://localhost:8080/"
        },
        "id": "i32G0CUQvauE",
        "outputId": "29097e40-3194-4882-9365-3bf1822027a8"
      },
      "outputs": [
        {
          "output_type": "stream",
          "name": "stdout",
          "text": [
            "Mover ficha 1 de la torre Inicio a la torre Destino\n",
            "Mover ficha 2 de la torre Inicio a la torre Intermedio\n",
            "Mover ficha 1 de la torre Destino a la torre Intermedio\n",
            "Mover ficha 3 de la torre Inicio a la torre Destino\n",
            "Mover ficha 1 de la torre Intermedio a la torre Inicio\n",
            "Mover ficha 2 de la torre Intermedio a la torre Destino\n",
            "Mover ficha 1 de la torre Inicio a la torre Destino\n",
            "Mover ficha 4 de la torre Inicio a la torre Intermedio\n",
            "Mover ficha 1 de la torre Destino a la torre Intermedio\n",
            "Mover ficha 2 de la torre Destino a la torre Inicio\n",
            "Mover ficha 1 de la torre Intermedio a la torre Inicio\n",
            "Mover ficha 3 de la torre Destino a la torre Intermedio\n",
            "Mover ficha 1 de la torre Inicio a la torre Destino\n",
            "Mover ficha 2 de la torre Inicio a la torre Intermedio\n",
            "Mover ficha 1 de la torre Destino a la torre Intermedio\n",
            "Mover ficha 5 de la torre Inicio a la torre Destino\n",
            "Mover ficha 1 de la torre Intermedio a la torre Inicio\n",
            "Mover ficha 2 de la torre Intermedio a la torre Destino\n",
            "Mover ficha 1 de la torre Inicio a la torre Destino\n",
            "Mover ficha 3 de la torre Intermedio a la torre Inicio\n",
            "Mover ficha 1 de la torre Destino a la torre Intermedio\n",
            "Mover ficha 2 de la torre Destino a la torre Inicio\n",
            "Mover ficha 1 de la torre Intermedio a la torre Inicio\n",
            "Mover ficha 4 de la torre Intermedio a la torre Destino\n",
            "Mover ficha 1 de la torre Inicio a la torre Destino\n",
            "Mover ficha 2 de la torre Inicio a la torre Intermedio\n",
            "Mover ficha 1 de la torre Destino a la torre Intermedio\n",
            "Mover ficha 3 de la torre Inicio a la torre Destino\n",
            "Mover ficha 1 de la torre Intermedio a la torre Inicio\n",
            "Mover ficha 2 de la torre Intermedio a la torre Destino\n",
            "Mover ficha 1 de la torre Inicio a la torre Destino\n",
            "Mover ficha 6 de la torre Inicio a la torre Intermedio\n",
            "Mover ficha 1 de la torre Destino a la torre Intermedio\n",
            "Mover ficha 2 de la torre Destino a la torre Inicio\n",
            "Mover ficha 1 de la torre Intermedio a la torre Inicio\n",
            "Mover ficha 3 de la torre Destino a la torre Intermedio\n",
            "Mover ficha 1 de la torre Inicio a la torre Destino\n",
            "Mover ficha 2 de la torre Inicio a la torre Intermedio\n",
            "Mover ficha 1 de la torre Destino a la torre Intermedio\n",
            "Mover ficha 4 de la torre Destino a la torre Inicio\n",
            "Mover ficha 1 de la torre Intermedio a la torre Inicio\n",
            "Mover ficha 2 de la torre Intermedio a la torre Destino\n",
            "Mover ficha 1 de la torre Inicio a la torre Destino\n",
            "Mover ficha 3 de la torre Intermedio a la torre Inicio\n",
            "Mover ficha 1 de la torre Destino a la torre Intermedio\n",
            "Mover ficha 2 de la torre Destino a la torre Inicio\n",
            "Mover ficha 1 de la torre Intermedio a la torre Inicio\n",
            "Mover ficha 5 de la torre Destino a la torre Intermedio\n",
            "Mover ficha 1 de la torre Inicio a la torre Destino\n",
            "Mover ficha 2 de la torre Inicio a la torre Intermedio\n",
            "Mover ficha 1 de la torre Destino a la torre Intermedio\n",
            "Mover ficha 3 de la torre Inicio a la torre Destino\n",
            "Mover ficha 1 de la torre Intermedio a la torre Inicio\n",
            "Mover ficha 2 de la torre Intermedio a la torre Destino\n",
            "Mover ficha 1 de la torre Inicio a la torre Destino\n",
            "Mover ficha 4 de la torre Inicio a la torre Intermedio\n",
            "Mover ficha 1 de la torre Destino a la torre Intermedio\n",
            "Mover ficha 2 de la torre Destino a la torre Inicio\n",
            "Mover ficha 1 de la torre Intermedio a la torre Inicio\n",
            "Mover ficha 3 de la torre Destino a la torre Intermedio\n",
            "Mover ficha 1 de la torre Inicio a la torre Destino\n",
            "Mover ficha 2 de la torre Inicio a la torre Intermedio\n",
            "Mover ficha 1 de la torre Destino a la torre Intermedio\n"
          ]
        }
      ],
      "source": [
        "# Torres de Hanoi\n",
        "\n",
        "def torres_de_hanoi(n, origen, destino, auxiliar):\n",
        "    if n == 1:\n",
        "        # Caso base: Mover una ficha de la torre de origen a la torre de destino\n",
        "        print(f\"Mover ficha 1 de la torre {origen} a la torre {destino}\")\n",
        "        return\n",
        "    else:\n",
        "        # Mover n-1 fichas de la torre de origen a la torre auxiliar\n",
        "        torres_de_hanoi(n-1, origen, auxiliar, destino)\n",
        "\n",
        "        # Mover la ficha restante de la torre de origen a la torre de destino\n",
        "        print(f\"Mover ficha {n} de la torre {origen} a la torre {destino}\")\n",
        "\n",
        "        # Mover las n-1 fichas de la torre auxiliar a la torre de destino\n",
        "        torres_de_hanoi(n-1, auxiliar, destino, origen)\n",
        "\n",
        "# Ejemplo de uso con 9 fichas\n",
        "numero_de_fichas = 6\n",
        "torres_de_hanoi(numero_de_fichas, 'Inicio', 'Intermedio', 'Destino')\n",
        "\n"
      ]
    },
    {
      "cell_type": "markdown",
      "metadata": {
        "id": "nfasaJtlc3zG"
      },
      "source": [
        "## Sucesión de Fibonacci\n",
        "\n",
        "Cálcula el n-ésimo término de la [Sucesión de Fibonacci](https://es.wikipedia.org/wiki/Sucesi%C3%B3n_de_Fibonacci) mediante un algoritmo recursivo y otro iterativo. Representa gráficamente cómo crece el tiempo de cómputo en función del número de términos para ambos algoritmos."
      ]
    },
    {
      "cell_type": "code",
      "execution_count": 3,
      "metadata": {
        "id": "74qZZAekiNYR"
      },
      "outputs": [],
      "source": [
        "#Sucesión_de_Fibonacci\n",
        "# le pasamos 5\n",
        "def fibonacci_iterativo(n):\n",
        "    if n <= 1:\n",
        "        return n # valida si el numero es 1 o menor 0 devuelve ese numero\n",
        "\n",
        "    # son los dos primeros numeros de la serie\n",
        "    actual = 0\n",
        "    next = 1\n",
        "    suma = 0\n",
        "\n",
        "    for i in range(2, n + 1):\n",
        "      # hacemos la suma de los dos anteriores\n",
        "      suma = actual + next\n",
        "      # se mueven al siguiente valor\n",
        "      actual = next\n",
        "      next = suma\n",
        "\n",
        "    return suma\n",
        "\n",
        "def fibonacci_recursivo(n):\n",
        "    if n <= 1:\n",
        "        return n\n",
        "    else:\n",
        "        return fibonacci_recursivo(n - 1) + fibonacci_recursivo(n - 2)\n",
        "\n",
        "\n"
      ]
    },
    {
      "cell_type": "code",
      "source": [
        "print(fibonacci_iterativo(7))"
      ],
      "metadata": {
        "colab": {
          "base_uri": "https://localhost:8080/"
        },
        "id": "awHRSG6QH0VK",
        "outputId": "fc6c1c74-5c3c-40fb-d83d-6ab13379c1c4"
      },
      "execution_count": 6,
      "outputs": [
        {
          "output_type": "stream",
          "name": "stdout",
          "text": [
            "13\n"
          ]
        }
      ]
    },
    {
      "cell_type": "code",
      "source": [
        "pip install matplotlib"
      ],
      "metadata": {
        "colab": {
          "base_uri": "https://localhost:8080/"
        },
        "id": "zNd_aZ_CFi9E",
        "outputId": "ff1cc011-17e9-4200-b5db-f353257ea4d9"
      },
      "execution_count": 7,
      "outputs": [
        {
          "output_type": "stream",
          "name": "stdout",
          "text": [
            "Requirement already satisfied: matplotlib in /usr/local/lib/python3.10/dist-packages (3.7.1)\n",
            "Requirement already satisfied: contourpy>=1.0.1 in /usr/local/lib/python3.10/dist-packages (from matplotlib) (1.2.0)\n",
            "Requirement already satisfied: cycler>=0.10 in /usr/local/lib/python3.10/dist-packages (from matplotlib) (0.12.1)\n",
            "Requirement already satisfied: fonttools>=4.22.0 in /usr/local/lib/python3.10/dist-packages (from matplotlib) (4.47.2)\n",
            "Requirement already satisfied: kiwisolver>=1.0.1 in /usr/local/lib/python3.10/dist-packages (from matplotlib) (1.4.5)\n",
            "Requirement already satisfied: numpy>=1.20 in /usr/local/lib/python3.10/dist-packages (from matplotlib) (1.23.5)\n",
            "Requirement already satisfied: packaging>=20.0 in /usr/local/lib/python3.10/dist-packages (from matplotlib) (23.2)\n",
            "Requirement already satisfied: pillow>=6.2.0 in /usr/local/lib/python3.10/dist-packages (from matplotlib) (9.4.0)\n",
            "Requirement already satisfied: pyparsing>=2.3.1 in /usr/local/lib/python3.10/dist-packages (from matplotlib) (3.1.1)\n",
            "Requirement already satisfied: python-dateutil>=2.7 in /usr/local/lib/python3.10/dist-packages (from matplotlib) (2.8.2)\n",
            "Requirement already satisfied: six>=1.5 in /usr/local/lib/python3.10/dist-packages (from python-dateutil>=2.7->matplotlib) (1.16.0)\n"
          ]
        }
      ]
    },
    {
      "cell_type": "code",
      "source": [
        "import time\n",
        "import matplotlib.pyplot as plt\n",
        "\n",
        "def tiempo_ejecucion(funcion, *args):\n",
        "    inicio = time.time()\n",
        "    resultado = funcion(*args)\n",
        "    fin = time.time()\n",
        "    tiempo_total = fin - inicio\n",
        "    return resultado, tiempo_total\n",
        "\n",
        "n_valores = list(range(1, 21))  # Números de términos para los que calcular Fibonacci\n",
        "tiempos_recursivos = []\n",
        "tiempos_iterativos = []\n",
        "\n",
        "for n in n_valores:\n",
        "    _, tiempo_recursivo = tiempo_ejecucion(fibonacci_recursivo, n)\n",
        "    _, tiempo_iterativo = tiempo_ejecucion(fibonacci_iterativo, n)\n",
        "\n",
        "    tiempos_recursivos.append(tiempo_recursivo)\n",
        "    tiempos_iterativos.append(tiempo_iterativo)\n",
        "\n",
        "# Graficar los resultados\n",
        "plt.plot(n_valores, tiempos_recursivos, label='Recursivo', marker='o')\n",
        "plt.plot(n_valores, tiempos_iterativos, label='Iterativo', marker='o')\n",
        "plt.xlabel('Número de términos de Fibonacci')\n",
        "plt.ylabel('Tiempo de ejecución (segundos)')\n",
        "plt.title('Tiempo de ejecución de Fibonacci recursivo e iterativo')\n",
        "plt.legend()\n",
        "plt.show()\n"
      ],
      "metadata": {
        "colab": {
          "base_uri": "https://localhost:8080/",
          "height": 472
        },
        "id": "3-JAG3ftFleQ",
        "outputId": "0b0090a7-8e90-436d-c9ac-a93942f9e6ba"
      },
      "execution_count": 8,
      "outputs": [
        {
          "output_type": "display_data",
          "data": {
            "text/plain": [
              "<Figure size 640x480 with 1 Axes>"
            ],
            "image/png": "[encoded data removed]"
          },
          "metadata": {}
        }
      ]
    },
    {
      "cell_type": "markdown",
      "metadata": {
        "id": "RgT5XJsZ429L"
      },
      "source": [
        "## Devolución de cambio por técnica voraz\n",
        "\n",
        "Resuelve el [Problema del Cambio de Moneda](https://es.wikipedia.org/wiki/Problema_de_cambio_de_monedas) utilizando una técnica voraz."
      ]
    },
    {
      "cell_type": "code",
      "execution_count": null,
      "metadata": {
        "colab": {
          "base_uri": "https://localhost:8080/"
        },
        "id": "uJtftBLU4-ap",
        "outputId": "e9bf4176-6782-4e9f-8167-01a9cc90a217"
      },
      "outputs": [
        {
          "output_type": "stream",
          "name": "stdout",
          "text": [
            "Cambio para 2545 usando monedas [25, 10, 5, 1]: serian:  {25: 101, 10: 2}\n"
          ]
        }
      ],
      "source": [
        "# Problema del cambio de moneda\n",
        "\n",
        "def cambio_moneda(cantidad, monedas):\n",
        "  monedas.sort(reverse=True) # ordenamos de forma descendente\n",
        "  cambio = {} # diccionario el cual almacena el cambio\n",
        "\n",
        "  for moneda in monedas:\n",
        "      while cantidad >= moneda:\n",
        "        # Si la cantidad es mayor o igual a la moneda entonces lo restamos y lo agregamos al cambio\n",
        "        cantidad -= moneda\n",
        "        cambio[moneda] = cambio.get(moneda, 0) + 1\n",
        "\n",
        "  return cambio\n",
        "\n",
        "cantidad = 2545\n",
        "tipos_monedas = [25, 10, 5, 1]\n",
        "\n",
        "resultado_cambio = cambio_moneda(cantidad, tipos_monedas)\n",
        "\n",
        "print(f\"Cambio para {cantidad} usando monedas {tipos_monedas}: serian:  {resultado_cambio}\")\n",
        "\n",
        "\n"
      ]
    },
    {
      "cell_type": "markdown",
      "metadata": {
        "id": "g8M9GTvy_Fa3"
      },
      "source": [
        "## N-Reinas por técnica de vuelta atrás\n",
        "Resuelve el [Problema de las N-Reinas](https://es.wikipedia.org/wiki/Problema_de_las_ocho_reinas) en un tablero de dimensión N mediante la técnica de la vuelta atrás (backtraking)."
      ]
    },
    {
      "cell_type": "code",
      "execution_count": null,
      "metadata": {
        "id": "FqOPyCmv_K65",
        "colab": {
          "base_uri": "https://localhost:8080/"
        },
        "outputId": "71e0400f-1aab-41fe-82f9-2c7614ea363b"
      },
      "outputs": [
        {
          "output_type": "stream",
          "name": "stdout",
          "text": [
            "Primera solución encontrada:\n",
            "[0, 2, 4, 1, 3]\n"
          ]
        }
      ],
      "source": [
        "# Problema de las N-Reinas\n",
        "\n",
        "\n",
        "def es_seguro(tablero, fila, columna, n):\n",
        "    # Verifica si es seguro colocar una reina en la posición (fila, columna)\n",
        "\n",
        "    # Verifica la fila en la misma columna\n",
        "    for i in range(fila):\n",
        "        if tablero[i] == columna or \\\n",
        "           tablero[i] - i == columna - fila or \\\n",
        "           tablero[i] + i == columna + fila:\n",
        "            return False\n",
        "\n",
        "    return True\n",
        "\n",
        "def resolver_n_reinas_util(tablero, fila, n, soluciones):\n",
        "    if fila == n:\n",
        "        # Todas las reinas han sido colocadas, añade la solución al resultado\n",
        "        soluciones.append(list(tablero))\n",
        "        return\n",
        "\n",
        "    for columna in range(n):\n",
        "        if es_seguro(tablero, fila, columna, n):\n",
        "            tablero[fila] = columna\n",
        "            resolver_n_reinas_util(tablero, fila + 1, n, soluciones)\n",
        "            tablero[fila] = -1  # Retrocede (backtrack) para explorar otras posibilidades\n",
        "\n",
        "def resolver_n_reinas(n):\n",
        "    soluciones = []\n",
        "    tablero = [-1] * n\n",
        "    resolver_n_reinas_util(tablero, 0, n, soluciones)\n",
        "    return soluciones\n",
        "\n",
        "# Ejemplo de uso para un tablero de 8x8\n",
        "n = 5\n",
        "soluciones = resolver_n_reinas(n)\n",
        "\n",
        "# Imprime la primera solución encontrada\n",
        "if soluciones:\n",
        "    print(\"Primera solución encontrada:\")\n",
        "    print(soluciones[0])\n",
        "else:\n",
        "    print(\"No hay soluciones para el tablero de\", n, \"x\", n)\n",
        "\n",
        "\n"
      ]
    },
    {
      "cell_type": "code",
      "execution_count": null,
      "metadata": {
        "id": "hSDeGtNec3zG"
      },
      "outputs": [],
      "source": []
    }
  ],
  "metadata": {
    "colab": {
      "provenance": [],
      "toc_visible": true,
      "include_colab_link": true
    },
    "kernelspec": {
      "display_name": "Python 3 (ipykernel)",
      "language": "python",
      "name": "python3"
    },
    "language_info": {
      "codemirror_mode": {
        "name": "ipython",
        "version": 3
      },
      "file_extension": ".py",
      "mimetype": "text/x-python",
      "name": "python",
      "nbconvert_exporter": "python",
      "pygments_lexer": "ipython3",
      "version": "3.11.5"
    }
  },
  "nbformat": 4,
  "nbformat_minor": 0
}