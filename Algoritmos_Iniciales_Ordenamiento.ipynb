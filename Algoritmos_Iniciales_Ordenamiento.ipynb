{
  "nbformat": 4,
  "nbformat_minor": 0,
  "metadata": {
    "colab": {
      "provenance": [],
      "authorship_tag": "ABX9TyPGv08cWJJX+3+TmIbGmvAP",
      "include_colab_link": true
    },
    "kernelspec": {
      "name": "python3",
      "display_name": "Python 3"
    },
    "language_info": {
      "name": "python"
    }
  },
  "cells": [
    {
      "cell_type": "markdown",
      "metadata": {
        "id": "view-in-github",
        "colab_type": "text"
      },
      "source": [
        "<a href=\"https://colab.research.google.com/github/susej2/AlgoritmosOptimizacion/blob/main/Algoritmos_Iniciales_Ordenamiento.ipynb\" target=\"_parent\"><img src=\"https://colab.research.google.com/assets/colab-badge.svg\" alt=\"Open In Colab\"/></a>"
      ]
    },
    {
      "cell_type": "code",
      "execution_count": 22,
      "metadata": {
        "colab": {
          "base_uri": "https://localhost:8080/"
        },
        "id": "xABb5qaJGkEv",
        "outputId": "69715437-78bb-4232-be08-66563f69bd42"
      },
      "outputs": [
        {
          "output_type": "stream",
          "name": "stdout",
          "text": [
            "Array sin ordenar\n",
            "[2]\n",
            "\n",
            "\n",
            "Array al ordenar \n",
            "[2]\n"
          ]
        }
      ],
      "source": [
        "# Bubble Sort\n",
        "\n",
        "def BubbleSort(arr):\n",
        "  # se verifica que el array tenga mas de un valor sino retorna el mismo array\n",
        "  if(len(arr)<=1):\n",
        "    return\n",
        "\n",
        "  # variable temporal para guardar el valor\n",
        "  aux = 0\n",
        "\n",
        "  for i in range(len(arr) -1):\n",
        "    for j in range(len(arr) - i -1):\n",
        "      # se compara si el elemento es mayor a su siguiente\n",
        "      if(arr[j] > arr[j+1]):\n",
        "        aux = arr[j]\n",
        "\n",
        "        # se intercambian los valores\n",
        "        arr[j] = arr[j+1]\n",
        "        arr[j+1] = aux\n",
        "\n",
        "arr = [5,3,4,6,1,2]\n",
        "# arr = [2]\n",
        "\n",
        "print(\"Array sin ordenar\")\n",
        "print(arr)\n",
        "print(\"\\n\")\n",
        "bubble_sort(arr)\n",
        "print(\"Array al ordenar \")\n",
        "print(arr)"
      ]
    },
    {
      "cell_type": "code",
      "source": [
        "# Insertion sort\n",
        "def InsertionSort(arr):\n",
        "  # se verifica que el array tenga mas de un valor sino retorna el mismo array\n",
        "  if(len(arr)<=1):\n",
        "    return\n",
        "\n",
        "  for i in range(1,len(arr)):\n",
        "    # se inicia en el segundo elemento\n",
        "    aux = arr[i]\n",
        "    j = i - 1\n",
        "\n",
        "    while j>=0 and aux < arr[j]:\n",
        "      arr[j+1] = arr[j]\n",
        "      j -= 1\n",
        "\n",
        "    # se hace el intercambio\n",
        "    arr[j + 1] = aux\n",
        "\n",
        "\n",
        "arr = [5, 3, 4, 6, 1, 2,10]\n",
        "# arr = [2]\n",
        "\n",
        "\n",
        "print(\"Array sin ordenar\")\n",
        "print(arr)\n",
        "print(\"\\n\")\n",
        "InsertionSort(arr)\n",
        "print(\"Array al ordenar \")\n",
        "print(arr)"
      ],
      "metadata": {
        "colab": {
          "base_uri": "https://localhost:8080/"
        },
        "id": "7dgxHJ69G-Vd",
        "outputId": "72a1dda7-cd86-4dfd-c37c-2214dc2ad7ea"
      },
      "execution_count": 25,
      "outputs": [
        {
          "output_type": "stream",
          "name": "stdout",
          "text": [
            "Array sin ordenar\n",
            "[5, 3, 4, 6, 1, 2, 10]\n",
            "\n",
            "\n",
            "Array al ordenar \n",
            "[1, 2, 3, 4, 5, 6, 10]\n"
          ]
        }
      ]
    },
    {
      "cell_type": "code",
      "source": [
        "# Selection sort\n",
        "def SelectionSort(arr):\n",
        "  # se verifica que el array tenga mas de un valor sino retorna el mismo array\n",
        "  if(len(arr)<=1):\n",
        "    return\n",
        "\n",
        "  for i in range(0,len(arr)):\n",
        "        # Encontramos el índice del mínimo elemento restante\n",
        "        indice_minimo = i\n",
        "        for j in range(i+1, len(arr)):\n",
        "            if arr[j] < arr[indice_minimo]:\n",
        "                indice_minimo = j\n",
        "\n",
        "        # Intercambiamos el mínimo encontrado con el elemento en la posición actual\n",
        "        arr[i], arr[indice_minimo] = arr[indice_minimo], arr[i]\n",
        "\n",
        "\n",
        "arr = [5, 3, 4, 6, 1, 2,10]\n",
        "# arr = [2]\n",
        "\n",
        "\n",
        "print(\"Array sin ordenar\")\n",
        "print(arr)\n",
        "print(\"\\n\")\n",
        "SelectionSort(arr)\n",
        "print(\"Array al ordenar \")\n",
        "print(arr)\n"
      ],
      "metadata": {
        "colab": {
          "base_uri": "https://localhost:8080/"
        },
        "id": "o6nmjibIHAyn",
        "outputId": "45c3194c-f4d4-451d-cb4f-b7a2e19438a8"
      },
      "execution_count": 27,
      "outputs": [
        {
          "output_type": "stream",
          "name": "stdout",
          "text": [
            "Array sin ordenar\n",
            "[5, 3, 4, 6, 1, 2, 10]\n",
            "\n",
            "\n",
            "Array al ordenar \n",
            "[1, 2, 3, 4, 5, 6, 10]\n"
          ]
        }
      ]
    }
  ]
}