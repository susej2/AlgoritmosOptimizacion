{
  "nbformat": 4,
  "nbformat_minor": 0,
  "metadata": {
    "colab": {
      "provenance": [],
      "authorship_tag": "ABX9TyN6C4S1PUdGggNormCz9+C+",
      "include_colab_link": true
    },
    "kernelspec": {
      "name": "python3",
      "display_name": "Python 3"
    },
    "language_info": {
      "name": "python"
    }
  },
  "cells": [
    {
      "cell_type": "markdown",
      "metadata": {
        "id": "view-in-github",
        "colab_type": "text"
      },
      "source": [
        "<a href=\"https://colab.research.google.com/github/susej2/AlgoritmosOptimizacion/blob/main/Algoritmos_R3.ipynb\" target=\"_parent\"><img src=\"https://colab.research.google.com/assets/colab-badge.svg\" alt=\"Open In Colab\"/></a>"
      ]
    },
    {
      "cell_type": "markdown",
      "source": [
        "Alumno: Jesus Martinez <br>\n",
        "Github: https://github.com/susej2/AlgoritmosOptimizacion/\n",
        "<br> **Descripcion del reto:** Implementar el algoritmo de búsqueda tabú para el TSP de la AG3."
      ],
      "metadata": {
        "id": "x_ZhYhBUGqnQ"
      }
    },
    {
      "cell_type": "code",
      "source": [
        "!pip install requests    #Hacer llamadas http a paginas de la red\n",
        "!pip install tsplib95    #Modulo para las instancias del problema del TSP"
      ],
      "metadata": {
        "colab": {
          "base_uri": "https://localhost:8080/"
        },
        "id": "ldASHFKorXkg",
        "outputId": "c8c6bae3-5daf-48e0-ae71-a7f0648e1d0f"
      },
      "execution_count": 10,
      "outputs": [
        {
          "output_type": "stream",
          "name": "stdout",
          "text": [
            "Requirement already satisfied: requests in /usr/local/lib/python3.10/dist-packages (2.31.0)\n",
            "Requirement already satisfied: charset-normalizer<4,>=2 in /usr/local/lib/python3.10/dist-packages (from requests) (3.3.2)\n",
            "Requirement already satisfied: idna<4,>=2.5 in /usr/local/lib/python3.10/dist-packages (from requests) (3.6)\n",
            "Requirement already satisfied: urllib3<3,>=1.21.1 in /usr/local/lib/python3.10/dist-packages (from requests) (2.0.7)\n",
            "Requirement already satisfied: certifi>=2017.4.17 in /usr/local/lib/python3.10/dist-packages (from requests) (2023.11.17)\n",
            "Requirement already satisfied: tsplib95 in /usr/local/lib/python3.10/dist-packages (0.7.1)\n",
            "Requirement already satisfied: Click>=6.0 in /usr/local/lib/python3.10/dist-packages (from tsplib95) (8.1.7)\n",
            "Requirement already satisfied: Deprecated~=1.2.9 in /usr/local/lib/python3.10/dist-packages (from tsplib95) (1.2.14)\n",
            "Requirement already satisfied: networkx~=2.1 in /usr/local/lib/python3.10/dist-packages (from tsplib95) (2.8.8)\n",
            "Requirement already satisfied: tabulate~=0.8.7 in /usr/local/lib/python3.10/dist-packages (from tsplib95) (0.8.10)\n",
            "Requirement already satisfied: wrapt<2,>=1.10 in /usr/local/lib/python3.10/dist-packages (from Deprecated~=1.2.9->tsplib95) (1.14.1)\n"
          ]
        }
      ]
    },
    {
      "cell_type": "code",
      "source": [
        "import urllib.request #Hacer llamadas http a paginas de la red\n",
        "import tsplib95       #Modulo para las instancias del problema del TSP\n",
        "import math           #Modulo de funciones matematicas. Se usa para exp\n",
        "import random         #Para generar valores aleatorios\n",
        "import numpy as np\n",
        "\n",
        "#Descargamos el fichero de datos(Matriz de distancias)\n",
        "file = \"swiss42.tsp\" ;\n",
        "urllib.request.urlretrieve(\"http://comopt.ifi.uni-heidelberg.de/software/TSPLIB95/tsp/swiss42.tsp.gz\", file + '.gz')\n",
        "!gzip -d swiss42.tsp.gz     #Descomprimir el fichero de datos\n",
        "\n",
        "#Coordendas 51-city problem (Christofides/Eilon)\n",
        "#file = \"eil51.tsp\" ; urllib.request.urlretrieve(\"http://comopt.ifi.uni-heidelberg.de/software/TSPLIB95/tsp/eil51.tsp.gz\", file)\n",
        "\n",
        "#Coordenadas - 48 capitals of the US (Padberg/Rinaldi)\n",
        "#file = \"att48.tsp\" ; urllib.request.urlretrieve(\"http://comopt.ifi.uni-heidelberg.de/software/TSPLIB95/tsp/att48.tsp.gz\", file)\n",
        "\n",
        "\n"
      ],
      "metadata": {
        "id": "n5xvO5abqDSb",
        "colab": {
          "base_uri": "https://localhost:8080/"
        },
        "outputId": "644e2703-0980-410e-e6cd-8232c9f72574"
      },
      "execution_count": 11,
      "outputs": [
        {
          "output_type": "stream",
          "name": "stdout",
          "text": [
            "gzip: swiss42.tsp already exists; do you wish to overwrite (y or n)? Y\n"
          ]
        }
      ]
    },
    {
      "cell_type": "code",
      "source": [
        "#Carga de datos y generación de objeto problem\n",
        "###############################################################################\n",
        "problem = tsplib95.load(file)\n",
        "\n",
        "#Nodos\n",
        "Nodos = list(problem.get_nodes())\n",
        "\n",
        "#Aristas\n",
        "Aristas = list(problem.get_edges())\n",
        "\n",
        "distancias = np.zeros((len(Nodos), len(Nodos)))\n",
        "\n",
        "for i in range(len(Nodos)):\n",
        "    for j in range(len(Nodos)):\n",
        "        distancias[i][j] = problem.get_weight(Nodos[i], Nodos[j])\n",
        "\n"
      ],
      "metadata": {
        "id": "UmS6kvCjxHC6"
      },
      "execution_count": 12,
      "outputs": []
    },
    {
      "cell_type": "code",
      "source": [
        "def crear_solucion(Nodos):\n",
        "    solucion = [Nodos[0]]\n",
        "    for n in Nodos[1:]:\n",
        "        solucion = solucion + [random.choice(list(set(Nodos) - set({Nodos[0]}) - set(solucion)))]\n",
        "    return solucion\n",
        "\n",
        "def distancia_total(solucion, distancias):\n",
        "    distancia_total = 0\n",
        "    for i in range(len(solucion) - 1):\n",
        "        distancia_total += distancias[solucion[i]][solucion[i + 1]]\n",
        "    distancia_total += distancias[solucion[-1]][solucion[0]]\n",
        "    return distancia_total\n"
      ],
      "metadata": {
        "id": "oXBaKzJCqAQ2"
      },
      "execution_count": null,
      "outputs": []
    },
    {
      "cell_type": "code",
      "source": [
        "\n",
        "def buscar_solucion_tabu(distancias, tamano_lista_tabu, num_iteraciones):\n",
        "    num_ciudades = len(distancias)\n",
        "    mejor_solucion = crear_solucion(Nodos)\n",
        "    mejor_distancia = distancia_total(mejor_solucion, distancias)\n",
        "    solucion_actual = mejor_solucion.copy()\n",
        "\n",
        "    lista_tabu = []\n",
        "\n",
        "    for iteracion in range(num_iteraciones):\n",
        "        vecina_encontrada = False\n",
        "        mejor_vecina = None\n",
        "        mejor_distancia_vecina = float('inf')\n",
        "\n",
        "        for i in range(1, num_ciudades - 1):\n",
        "            for j in range(i + 1, num_ciudades):\n",
        "                vecina = solucion_actual.copy()\n",
        "                vecina[i], vecina[j] = vecina[j], vecina[i]\n",
        "\n",
        "                distancia_vecina = distancia_total(vecina, distancias)\n",
        "\n",
        "                if distancia_vecina < mejor_distancia_vecina and (i, j) not in lista_tabu:\n",
        "                    mejor_vecina = vecina\n",
        "                    mejor_distancia_vecina = distancia_vecina\n",
        "                    vecina_encontrada = True\n",
        "\n",
        "        if vecina_encontrada:\n",
        "            solucion_actual = mejor_vecina\n",
        "            lista_tabu.append((i, j))\n",
        "            if len(lista_tabu) > tamano_lista_tabu:\n",
        "                lista_tabu.pop(0)\n",
        "\n",
        "        if mejor_distancia_vecina < mejor_distancia:\n",
        "            mejor_solucion = mejor_vecina\n",
        "            mejor_distancia = mejor_distancia_vecina\n",
        "\n",
        "    return mejor_solucion, mejor_distancia\n"
      ],
      "metadata": {
        "id": "_5bC_GL0IeYj"
      },
      "execution_count": 13,
      "outputs": []
    },
    {
      "cell_type": "code",
      "execution_count": 14,
      "metadata": {
        "id": "FbgcFfgTGj7J",
        "colab": {
          "base_uri": "https://localhost:8080/"
        },
        "outputId": "f82f2c30-42ad-4de1-83a6-7e608cedc852"
      },
      "outputs": [
        {
          "output_type": "stream",
          "name": "stdout",
          "text": [
            "Mejor solución encontrada: [0, 32, 34, 33, 20, 31, 17, 37, 15, 16, 14, 19, 13, 5, 26, 6, 3, 1, 7, 36, 35, 27, 2, 4, 18, 12, 11, 25, 10, 41, 40, 24, 21, 29, 30, 38, 22, 39, 9, 23, 8, 28]\n",
            "Distancia óptima: 1635.0\n"
          ]
        }
      ],
      "source": [
        "\n",
        "solucion_optima, distancia_optima = buscar_solucion_tabu(distancias, tamano_lista_tabu=5, num_iteraciones=1000)\n",
        "\n",
        "print(\"Mejor solución encontrada:\", solucion_optima)\n",
        "print(\"Distancia óptima:\", distancia_optima)\n"
      ]
    }
  ]
}