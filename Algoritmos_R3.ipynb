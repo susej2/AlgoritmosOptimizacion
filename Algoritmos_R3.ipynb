{
  "nbformat": 4,
  "nbformat_minor": 0,
  "metadata": {
    "colab": {
      "provenance": [],
      "authorship_tag": "ABX9TyNCZLHluECYcsDMEuEI0ohJ",
      "include_colab_link": true
    },
    "kernelspec": {
      "name": "python3",
      "display_name": "Python 3"
    },
    "language_info": {
      "name": "python"
    }
  },
  "cells": [
    {
      "cell_type": "markdown",
      "metadata": {
        "id": "view-in-github",
        "colab_type": "text"
      },
      "source": [
        "<a href=\"https://colab.research.google.com/github/susej2/AlgoritmosOptimizacion/blob/main/Algoritmos_R3.ipynb\" target=\"_parent\"><img src=\"https://colab.research.google.com/assets/colab-badge.svg\" alt=\"Open In Colab\"/></a>"
      ]
    },
    {
      "cell_type": "markdown",
      "source": [
        "Alumno: Jesus Martinez <br>\n",
        "Github: https://github.com/susej2/AlgoritmosOptimizacion/\n",
        "<br> **Descripcion del reto:** Mejorar la implementación de búsqueda local implementada en  clase sobre el TSP con otros operadores de vecindad."
      ],
      "metadata": {
        "id": "x_ZhYhBUGqnQ"
      }
    },
    {
      "cell_type": "code",
      "source": [
        "!pip install requests    #Hacer llamadas http a paginas de la red\n",
        "!pip install tsplib95    #Modulo para las instancias del problema del TSP"
      ],
      "metadata": {
        "colab": {
          "base_uri": "https://localhost:8080/"
        },
        "id": "ldASHFKorXkg",
        "outputId": "106210ec-1954-40f9-89c6-66c9a0e15c62"
      },
      "execution_count": null,
      "outputs": [
        {
          "output_type": "stream",
          "name": "stdout",
          "text": [
            "Requirement already satisfied: requests in /usr/local/lib/python3.10/dist-packages (2.31.0)\n",
            "Requirement already satisfied: charset-normalizer<4,>=2 in /usr/local/lib/python3.10/dist-packages (from requests) (3.3.2)\n",
            "Requirement already satisfied: idna<4,>=2.5 in /usr/local/lib/python3.10/dist-packages (from requests) (3.6)\n",
            "Requirement already satisfied: urllib3<3,>=1.21.1 in /usr/local/lib/python3.10/dist-packages (from requests) (2.0.7)\n",
            "Requirement already satisfied: certifi>=2017.4.17 in /usr/local/lib/python3.10/dist-packages (from requests) (2023.11.17)\n",
            "Collecting tsplib95\n",
            "  Downloading tsplib95-0.7.1-py2.py3-none-any.whl (25 kB)\n",
            "Requirement already satisfied: Click>=6.0 in /usr/local/lib/python3.10/dist-packages (from tsplib95) (8.1.7)\n",
            "Collecting Deprecated~=1.2.9 (from tsplib95)\n",
            "  Downloading Deprecated-1.2.14-py2.py3-none-any.whl (9.6 kB)\n",
            "Collecting networkx~=2.1 (from tsplib95)\n",
            "  Downloading networkx-2.8.8-py3-none-any.whl (2.0 MB)\n",
            "\u001b[2K     \u001b[90m━━━━━━━━━━━━━━━━━━━━━━━━━━━━━━━━━━━━━━━━\u001b[0m \u001b[32m2.0/2.0 MB\u001b[0m \u001b[31m25.1 MB/s\u001b[0m eta \u001b[36m0:00:00\u001b[0m\n",
            "\u001b[?25hCollecting tabulate~=0.8.7 (from tsplib95)\n",
            "  Downloading tabulate-0.8.10-py3-none-any.whl (29 kB)\n",
            "Requirement already satisfied: wrapt<2,>=1.10 in /usr/local/lib/python3.10/dist-packages (from Deprecated~=1.2.9->tsplib95) (1.14.1)\n",
            "Installing collected packages: tabulate, networkx, Deprecated, tsplib95\n",
            "  Attempting uninstall: tabulate\n",
            "    Found existing installation: tabulate 0.9.0\n",
            "    Uninstalling tabulate-0.9.0:\n",
            "      Successfully uninstalled tabulate-0.9.0\n",
            "  Attempting uninstall: networkx\n",
            "    Found existing installation: networkx 3.2.1\n",
            "    Uninstalling networkx-3.2.1:\n",
            "      Successfully uninstalled networkx-3.2.1\n",
            "\u001b[31mERROR: pip's dependency resolver does not currently take into account all the packages that are installed. This behaviour is the source of the following dependency conflicts.\n",
            "lida 0.0.10 requires fastapi, which is not installed.\n",
            "lida 0.0.10 requires kaleido, which is not installed.\n",
            "lida 0.0.10 requires python-multipart, which is not installed.\n",
            "lida 0.0.10 requires uvicorn, which is not installed.\n",
            "bigframes 0.20.0 requires tabulate>=0.9, but you have tabulate 0.8.10 which is incompatible.\u001b[0m\u001b[31m\n",
            "\u001b[0mSuccessfully installed Deprecated-1.2.14 networkx-2.8.8 tabulate-0.8.10 tsplib95-0.7.1\n"
          ]
        }
      ]
    },
    {
      "cell_type": "code",
      "source": [
        "import urllib.request #Hacer llamadas http a paginas de la red\n",
        "import tsplib95       #Modulo para las instancias del problema del TSP\n",
        "import math           #Modulo de funciones matematicas. Se usa para exp\n",
        "import random         #Para generar valores aleatorios\n",
        "import numpy as np\n",
        "\n",
        "#http://elib.zib.de/pub/mp-testdata/tsp/tsplib/\n",
        "#Documentacion :\n",
        "  # http://comopt.ifi.uni-heidelberg.de/software/TSPLIB95/tsp95.pdf\n",
        "  # https://tsplib95.readthedocs.io/en/stable/pages/usage.html\n",
        "  # https://tsplib95.readthedocs.io/en/v0.6.1/modules.html\n",
        "  # https://pypi.org/project/tsplib95/\n",
        "\n",
        "#Descargamos el fichero de datos(Matriz de distancias)\n",
        "file = \"swiss42.tsp\" ;\n",
        "urllib.request.urlretrieve(\"http://comopt.ifi.uni-heidelberg.de/software/TSPLIB95/tsp/swiss42.tsp.gz\", file + '.gz')\n",
        "!gzip -d swiss42.tsp.gz     #Descomprimir el fichero de datos\n",
        "\n",
        "#Coordendas 51-city problem (Christofides/Eilon)\n",
        "#file = \"eil51.tsp\" ; urllib.request.urlretrieve(\"http://comopt.ifi.uni-heidelberg.de/software/TSPLIB95/tsp/eil51.tsp.gz\", file)\n",
        "\n",
        "#Coordenadas - 48 capitals of the US (Padberg/Rinaldi)\n",
        "#file = \"att48.tsp\" ; urllib.request.urlretrieve(\"http://comopt.ifi.uni-heidelberg.de/software/TSPLIB95/tsp/att48.tsp.gz\", file)\n",
        "\n",
        "\n"
      ],
      "metadata": {
        "id": "n5xvO5abqDSb",
        "colab": {
          "base_uri": "https://localhost:8080/"
        },
        "outputId": "36dd9c73-d402-4ac3-e9dd-f3158124da0a"
      },
      "execution_count": null,
      "outputs": [
        {
          "output_type": "stream",
          "name": "stdout",
          "text": [
            "gzip: swiss42.tsp already exists; do you wish to overwrite (y or n)? y\n"
          ]
        }
      ]
    },
    {
      "cell_type": "code",
      "source": [
        "#Carga de datos y generación de objeto problem\n",
        "###############################################################################\n",
        "problem = tsplib95.load(file)\n",
        "\n",
        "#Nodos\n",
        "Nodos = list(problem.get_nodes())\n",
        "\n",
        "#Aristas\n",
        "Aristas = list(problem.get_edges())\n",
        "\n",
        "distancias = np.zeros((len(Nodos), len(Nodos)))\n",
        "\n",
        "for i in range(len(Nodos)):\n",
        "    for j in range(len(Nodos)):\n",
        "        distancias[i][j] = problem.get_weight(Nodos[i], Nodos[j])\n",
        "\n"
      ],
      "metadata": {
        "id": "UmS6kvCjxHC6"
      },
      "execution_count": null,
      "outputs": []
    },
    {
      "cell_type": "code",
      "source": [
        "def crear_solucion(Nodos):\n",
        "    solucion = [Nodos[0]]\n",
        "    for n in Nodos[1:]:\n",
        "        solucion = solucion + [random.choice(list(set(Nodos) - set({Nodos[0]}) - set(solucion)))]\n",
        "    return solucion\n",
        "\n",
        "def distancia_total(solucion, distancias):\n",
        "    distancia_total = 0\n",
        "    for i in range(len(solucion) - 1):\n",
        "        distancia_total += distancias[solucion[i]][solucion[i + 1]]\n",
        "    distancia_total += distancias[solucion[-1]][solucion[0]]\n",
        "    return distancia_total\n",
        "\n",
        "def buscar_solucion_tabu(distancias, tamano_lista_tabu, num_iteraciones):\n",
        "    num_ciudades = len(distancias)\n",
        "    mejor_solucion = crear_solucion(Nodos)\n",
        "    mejor_distancia = distancia_total(mejor_solucion, distancias)\n",
        "    solucion_actual = mejor_solucion.copy()\n",
        "\n",
        "    lista_tabu = []\n",
        "\n",
        "    for iteracion in range(num_iteraciones):\n",
        "        vecina_encontrada = False\n",
        "        mejor_vecina = None\n",
        "        mejor_distancia_vecina = float('inf')\n",
        "\n",
        "        for i in range(1, num_ciudades - 1):\n",
        "            for j in range(i + 1, num_ciudades):\n",
        "                vecina = solucion_actual.copy()\n",
        "                vecina[i], vecina[j] = vecina[j], vecina[i]\n",
        "\n",
        "                distancia_vecina = distancia_total(vecina, distancias)\n",
        "\n",
        "                if distancia_vecina < mejor_distancia_vecina and (i, j) not in lista_tabu:\n",
        "                    mejor_vecina = vecina\n",
        "                    mejor_distancia_vecina = distancia_vecina\n",
        "                    vecina_encontrada = True\n",
        "\n",
        "        if vecina_encontrada:\n",
        "            solucion_actual = mejor_vecina\n",
        "            lista_tabu.append((i, j))\n",
        "            if len(lista_tabu) > tamano_lista_tabu:\n",
        "                lista_tabu.pop(0)\n",
        "\n",
        "        if mejor_distancia_vecina < mejor_distancia:\n",
        "            mejor_solucion = mejor_vecina\n",
        "            mejor_distancia = mejor_distancia_vecina\n",
        "\n",
        "    return mejor_solucion, mejor_distancia\n",
        "\n",
        "# Ejemplo de uso\n",
        "solucion_optima, distancia_optima = buscar_solucion_tabu(distancias, tamano_lista_tabu=5, num_iteraciones=1000)\n",
        "\n",
        "print(\"Mejor solución encontrada:\", solucion_optima)\n",
        "print(\"Distancia óptima:\", distancia_optima)\n"
      ],
      "metadata": {
        "colab": {
          "base_uri": "https://localhost:8080/"
        },
        "id": "oXBaKzJCqAQ2",
        "outputId": "d6045c1b-0d97-49c3-857e-00b631d089ab"
      },
      "execution_count": null,
      "outputs": [
        {
          "output_type": "stream",
          "name": "stdout",
          "text": [
            "Mejor solución encontrada: [0, 27, 2, 28, 9, 23, 41, 18, 26, 5, 6, 4, 39, 21, 24, 40, 19, 13, 12, 11, 25, 10, 8, 29, 30, 22, 38, 34, 32, 3, 1, 7, 35, 36, 37, 15, 16, 14, 17, 31, 20, 33]\n",
            "Distancia óptima: 1930.0\n"
          ]
        }
      ]
    },
    {
      "cell_type": "code",
      "execution_count": null,
      "metadata": {
        "id": "FbgcFfgTGj7J"
      },
      "outputs": [],
      "source": []
    }
  ]
}